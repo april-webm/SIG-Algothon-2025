{
 "cells": [
  {
   "metadata": {},
   "cell_type": "markdown",
   "source": [
    "# Strategy V2\n",
    "\n",
    "In analysis, we found that all instruments except 26 followed GBM-like properties. This means \n",
    "they are trending/momentum instruments and we aim to implement, test and validate the following \n",
    "trading strategies to see which gives the best profit factor, sharpe ratio and competition score:\n",
    "\n",
    "- Donchian Breakout\n",
    "- EMA Crossovers\n",
    "\n",
    "Each strategy will also have an optimised, grid-searched lookback(s)."
   ],
   "id": "3c77385860d95266"
  },
  {
   "metadata": {
    "ExecuteTime": {
     "end_time": "2025-06-23T03:30:55.476901Z",
     "start_time": "2025-06-23T03:30:55.470168Z"
    }
   },
   "cell_type": "code",
   "source": [
    "import pandas as pd\n",
    "import numpy as np\n",
    "import copy\n",
    "\n",
    "from pandas import DataFrame, Series\n",
    "from typing import List, Dict\n",
    "from numpy import ndarray\n",
    "\n",
    "position_limits: int = 10000\n",
    "allocated_instruments: List[int] = [0, 1, 2, 3, 4, 5, 6, 7, 22, 23, 24, 26, 27]\n",
    "commission_fee: float = 0.0005"
   ],
   "id": "991ca63a15f3b213",
   "outputs": [],
   "execution_count": 87
  },
  {
   "metadata": {},
   "cell_type": "markdown",
   "source": "We first load in the price_history",
   "id": "8df5ec314f8554de"
  },
  {
   "cell_type": "code",
   "id": "initial_id",
   "metadata": {
    "collapsed": true,
    "ExecuteTime": {
     "end_time": "2025-06-23T03:30:55.487258Z",
     "start_time": "2025-06-23T03:30:55.482797Z"
    }
   },
   "source": [
    "def get_price_history() -> Dict[int, DataFrame]:\n",
    "\t# Get Price Data\n",
    "\traw_prices: DataFrame = pd.read_csv(\"../../prices.txt\", sep=r\"\\s+\", index_col=None,\n",
    "\t\theader=None)\n",
    "\tprice_data: ndarray = raw_prices.values[:500,:].T\n",
    "\n",
    "\t# Initialise Price History\n",
    "\tprice_history: Dict[int, DataFrame] = {}\n",
    "\n",
    "\t# Assign price data to insturments\n",
    "\tfor instrument_no in allocated_instruments:\n",
    "\t\tinstrument_price_history: Dict[str, ndarray] = {}\n",
    "\t\tinstrument_price_history[\"price\"] = price_data[instrument_no]\n",
    "\t\tprice_history[instrument_no] = pd.DataFrame(instrument_price_history)\n",
    "\n",
    "\n",
    "\treturn price_history"
   ],
   "outputs": [],
   "execution_count": 88
  },
  {
   "metadata": {},
   "cell_type": "markdown",
   "source": [
    "### Strategies\n",
    "\n",
    "**Donchian Breakout**"
   ],
   "id": "e4613510ce704a27"
  },
  {
   "metadata": {
    "ExecuteTime": {
     "end_time": "2025-06-23T03:30:55.537730Z",
     "start_time": "2025-06-23T03:30:55.533591Z"
    }
   },
   "cell_type": "code",
   "source": [
    "def donchian_breakout(price_history: Dict[int, DataFrame], lookbacks: Dict[int, int]) -> Dict[int, \n",
    "\tDataFrame]:\n",
    "\tfor instrument_no in allocated_instruments:\n",
    "\t\t# Assign upper and lower band\n",
    "\t\tprice_history[instrument_no][\"upper\"] = price_history[instrument_no][\"price\"].rolling(\n",
    "\t\t\tlookbacks[instrument_no] - 1).max().shift(1)\n",
    "\t\tprice_history[instrument_no][\"lower\"] = price_history[instrument_no][\"price\"].rolling(\n",
    "\t\t\tlookbacks[instrument_no] - 1).min().shift(1)\n",
    "\n",
    "\t\t# Assign signals\n",
    "\t\tprice_history[instrument_no][\"signal\"] = np.nan\n",
    "\t\tprice_history[instrument_no].loc[price_history[instrument_no][\"price\"] > price_history[\n",
    "\t\t\tinstrument_no][\"upper\"], 'signal']\t= 1\n",
    "\t\tprice_history[instrument_no].loc[price_history[instrument_no][\"price\"] < price_history[\n",
    "\t\t\tinstrument_no][\"lower\"], 'signal']\t= -1\n",
    "\n",
    "\t\tprice_history[instrument_no][\"signal\"] = price_history[instrument_no][\"signal\"].ffill()\n",
    "\n",
    "\treturn price_history"
   ],
   "id": "9e814ba1baad8432",
   "outputs": [],
   "execution_count": 89
  },
  {
   "metadata": {},
   "cell_type": "markdown",
   "source": "**MA Crossover**",
   "id": "7be127dd2625a11d"
  },
  {
   "metadata": {
    "ExecuteTime": {
     "end_time": "2025-06-23T03:30:55.582305Z",
     "start_time": "2025-06-23T03:30:55.578300Z"
    }
   },
   "cell_type": "code",
   "source": [
    "def ma_crossover(price_history: Dict[int, DataFrame], lookbacks: Dict[int, List[int]]) -> (\n",
    "\tDict)[int, DataFrame]:\n",
    "\tfor instrument_no in allocated_instruments:\n",
    "\t\t# Get fast and slow MA\n",
    "\t\tfast_ma: ndarray = price_history[instrument_no][\"price\"].rolling(\n",
    "\t\t\tlookbacks[instrument_no][0]).mean().shift(1)\n",
    "\t\tslow_ma: ndarray = price_history[instrument_no][\"price\"].rolling(\n",
    "\t\t\tlookbacks[instrument_no][1]).mean().shift(1)\t\n",
    "\t\t\n",
    "\t\tprice_history[instrument_no][\"signal\"] = np.zeros(500)\n",
    "\t\tprice_history[instrument_no].loc[fast_ma > slow_ma, 'signal'] = 1\n",
    "\t\tprice_history[instrument_no].loc[fast_ma < slow_ma, 'signal'] = -1\n",
    "\t\tprice_history[instrument_no][\"signal\"] = (price_history[instrument_no][\"signal\"].replace\n",
    "\t\t\t(0, np.nan).ffill().fillna(0))\n",
    "\t\n",
    "\treturn price_history"
   ],
   "id": "d305f7e7952d371",
   "outputs": [],
   "execution_count": 90
  },
  {
   "metadata": {},
   "cell_type": "markdown",
   "source": "### Backtesting",
   "id": "e728f9206be2e4a0"
  },
  {
   "metadata": {
    "ExecuteTime": {
     "end_time": "2025-06-23T03:30:55.627602Z",
     "start_time": "2025-06-23T03:30:55.622272Z"
    }
   },
   "cell_type": "code",
   "source": [
    "def get_strategy_results(price_history: Dict[int, DataFrame]) -> Dict[int, DataFrame]:\n",
    "\tfor instrument_no in allocated_instruments:\n",
    "\t\t# Get Log Returns\n",
    "\t\tprice_history[instrument_no][\"log_return\"] = np.log(price_history[instrument_no]\n",
    "\t\t[\"price\"]).diff().shift(-1)\n",
    "\n",
    "\t\t# Get Strategy Return\n",
    "\t\tprice_history[instrument_no][\"strategy_return\"] = (price_history[instrument_no][\"signal\"]\n",
    "\t\t\t\t\t\t\t\t\t\t\t\t\t\t   * price_history[instrument_no][\"log_return\"])\n",
    "\n",
    "\t\t# Get Position changes\n",
    "\t\tposition_change: ndarray = price_history[instrument_no][\"signal\"].diff().abs()\n",
    "\n",
    "\t\t# Apply the commission fee\n",
    "\t\tprice_history[instrument_no][\"strategy_return\"] -= position_change * commission_fee\n",
    "\n",
    "\n",
    "\treturn price_history\n",
    "\n",
    "def show_performance_metrics(strategy_results: Dict[int, DataFrame]) -> None:\n",
    "\tperformance_metrics: Dict[str, List[int | float]] = {}\n",
    "\tperformance_metrics[\"Instrument No.\"] = allocated_instruments\n",
    "\tperformance_metrics[\"Profit Factor\"] = []\n",
    "\tperformance_metrics[\"Sharpe Ratio\"] = []\n",
    "\t\n",
    "\tfor instrument_no in allocated_instruments:\n",
    "\t\t# Get Returns\n",
    "\t\treturns: Series = strategy_results[instrument_no][\"strategy_return\"]\n",
    "\n",
    "\t\t# Compute performance metrics\n",
    "\t\tprofit_factor = returns[returns > 0].sum() / returns[returns < 0].abs().sum()\n",
    "\t\tsharpe = (returns.mean() / returns.std()) * (252 ** 0.5)\n",
    "\t\t\n",
    "\t\tperformance_metrics[\"Profit Factor\"].append(profit_factor)\n",
    "\t\tperformance_metrics[\"Sharpe Ratio\"].append(sharpe)\n",
    "\t\n",
    "\tperformance_metrics_df: DataFrame = pd.DataFrame(performance_metrics)\n",
    "\tprint(performance_metrics_df.to_string(index=False))\n",
    "\t\t\n"
   ],
   "id": "ccdee4826552a5a6",
   "outputs": [],
   "execution_count": 91
  },
  {
   "metadata": {},
   "cell_type": "markdown",
   "source": "### Grid Searching (Optimise for sharpe ratio)",
   "id": "3ce1eaa92373a0a8"
  },
  {
   "metadata": {
    "ExecuteTime": {
     "end_time": "2025-06-23T03:30:55.674843Z",
     "start_time": "2025-06-23T03:30:55.667797Z"
    }
   },
   "cell_type": "code",
   "source": [
    "def get_donchian_breakout_lookbacks() -> Dict[int, int]:\n",
    "\tlookbacks: Dict[int, int] = {}\n",
    "\tbest_sharpes: Dict[int, float] = {\n",
    "\t\tinstrument_no: -100000000.0 for instrument_no in allocated_instruments\n",
    "\t}\n",
    "\t\n",
    "\tprice_history: Dict[int, DataFrame] = get_price_history()\n",
    "\t\n",
    "\tfor lookback in range(30, 201):\n",
    "\t\tcurrent_lookback: Dict[int, int] = {instrument_no: lookback for instrument_no in \n",
    "\t\t\tallocated_instruments}\n",
    "\t\tstrategy_output: Dict[int, DataFrame] = donchian_breakout(copy.deepcopy(price_history), \n",
    "\t\t\tcurrent_lookback)\n",
    "\t\tstrategy_results: Dict[int, DataFrame] = get_strategy_results(strategy_output)\n",
    "\t\t\n",
    "\t\tfor instrument_no in allocated_instruments:\n",
    "\t\t\t# Get Returns\n",
    "\t\t\treturns: Series = strategy_results[instrument_no][\"strategy_return\"]\n",
    "\t\t\t\n",
    "\t\t\t# Compute Sharpe\n",
    "\t\t\tsharpe = (returns.mean() / returns.std()) * (252 ** 0.5)\n",
    "\t\t\t\n",
    "\t\t\t# If sharpe is better than current sharpe, replace lookback\n",
    "\t\t\tif sharpe > best_sharpes[instrument_no]:\n",
    "\t\t\t\tbest_sharpes[instrument_no] = sharpe\n",
    "\t\t\t\tlookbacks[instrument_no] = lookback\n",
    "\t\n",
    "\treturn lookbacks\n",
    "\n",
    "def get_ma_crossover_lookbacks() -> Dict[int, List[int]]:\n",
    "\tlookbacks: Dict[int, List[int]] = {instrument_no: [] for instrument_no in allocated_instruments}\n",
    "\tbest_sharpes: Dict[int, float] = {\n",
    "\t\tinstrument_no: -10000000.0 for instrument_no in allocated_instruments\n",
    "\t}\n",
    "\t\n",
    "\tprice_history: Dict[int, DataFrame] = get_price_history()\n",
    "\t\n",
    "\tfor slow_lookback in range(50, 201):\n",
    "\t\tfor fast_lookback in range(5, 11):\n",
    "\t\t\tcurrent_lookback: Dict[int, List[int]] = {\n",
    "\t\t\t\tinstrument_no: [fast_lookback, slow_lookback] for instrument_no in allocated_instruments\n",
    "\t\t\t}\n",
    "\t\t\tstrategy_output: Dict[int, DataFrame] = ma_crossover(copy.deepcopy(price_history),\n",
    "\t\t\t\tcurrent_lookback)\n",
    "\t\t\tstrategy_results: Dict[int, DataFrame] = get_strategy_results(strategy_output)\n",
    "\t\t\t\n",
    "\t\t\tfor instrument_no in allocated_instruments:\n",
    "\t\t\t\treturns: Series = strategy_results[instrument_no][\"strategy_return\"]\n",
    "\t\t\t\t\n",
    "\t\t\t\tsharpe = (returns.mean() / returns.std()) * (252 ** 0.5)\n",
    "\t\t\t\t\n",
    "\t\t\t\tif sharpe > best_sharpes[instrument_no]:\n",
    "\t\t\t\t\tbest_sharpes[instrument_no] = sharpe\n",
    "\t\t\t\t\tlookbacks[instrument_no] = [fast_lookback, slow_lookback]\n",
    "\t\n",
    "\treturn lookbacks"
   ],
   "id": "f3192eb639724fba",
   "outputs": [],
   "execution_count": 92
  },
  {
   "metadata": {},
   "cell_type": "markdown",
   "source": "### Performance Metrics\n",
   "id": "b21d67e2aeffb0da"
  },
  {
   "metadata": {
    "ExecuteTime": {
     "end_time": "2025-06-23T03:31:17.643004Z",
     "start_time": "2025-06-23T03:30:55.715871Z"
    }
   },
   "cell_type": "code",
   "source": [
    "# Get optimised lookbacks\n",
    "donchian_breakout_lookbacks: Dict[int, int] = get_donchian_breakout_lookbacks()\n",
    "ma_crossover_lookbacks: Dict[int, List[int]] = get_ma_crossover_lookbacks()\n",
    "\n",
    "price_history: Dict[int, DataFrame] = get_price_history()\n",
    "db_output: Dict[int, DataFrame] = donchian_breakout(copy.deepcopy(price_history), \n",
    "\tdonchian_breakout_lookbacks)\n",
    "ma_cross_output: Dict[int, DataFrame] = ma_crossover(copy.deepcopy(price_history), \n",
    "\tma_crossover_lookbacks)\n",
    "\n",
    "db_results: Dict[int, DataFrame] = get_strategy_results(db_output)\n",
    "ma_cross_results: Dict[int, DataFrame] = get_strategy_results(ma_cross_output)\n",
    "show_performance_metrics(db_results)\n",
    "show_performance_metrics(ma_cross_results)"
   ],
   "id": "403ae7fd6228a491",
   "outputs": [
    {
     "name": "stdout",
     "output_type": "stream",
     "text": [
      " Instrument No.  Profit Factor  Sharpe Ratio\n",
      "              0       1.156975      0.929310\n",
      "              1       1.208946      1.218807\n",
      "              2       1.228547      1.322497\n",
      "              3       1.082080      0.491369\n",
      "              4       1.261922      1.453206\n",
      "              5       1.344871      1.904097\n",
      "              6       1.164285      0.957696\n",
      "              7       1.069305      0.420549\n",
      "             22       1.041031      0.252678\n",
      "             23       1.290834      1.620401\n",
      "             24       1.001762      0.010908\n",
      "             26       0.921265     -0.525407\n",
      "             27       1.228924      1.313179\n",
      " Instrument No.  Profit Factor  Sharpe Ratio\n",
      "              0       1.161698      0.904327\n",
      "              1       1.191956      1.040385\n",
      "              2       1.111540      0.533925\n",
      "              3       1.142366      0.667304\n",
      "              4       1.239755      1.201868\n",
      "              5       1.310997      1.574195\n",
      "              6       1.164464      0.778153\n",
      "              7       1.079276      0.368070\n",
      "             22       1.083383      0.459089\n",
      "             23       1.347155      1.506839\n",
      "             24       1.100174      0.459016\n",
      "             26       0.934978     -0.393546\n",
      "             27       1.248285      1.339107\n"
     ]
    }
   ],
   "execution_count": 93
  }
 ],
 "metadata": {
  "kernelspec": {
   "display_name": "Python 3",
   "language": "python",
   "name": "python3"
  },
  "language_info": {
   "codemirror_mode": {
    "name": "ipython",
    "version": 2
   },
   "file_extension": ".py",
   "mimetype": "text/x-python",
   "name": "python",
   "nbconvert_exporter": "python",
   "pygments_lexer": "ipython2",
   "version": "2.7.6"
  }
 },
 "nbformat": 4,
 "nbformat_minor": 5
}
