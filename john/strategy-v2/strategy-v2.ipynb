{
 "cells": [
  {
   "metadata": {},
   "cell_type": "markdown",
   "source": [
    "# Strategy V2\n",
    "\n",
    "In analysis, we found that all instruments except 26 followed GBM-like properties. This means \n",
    "they are trending/momentum instruments and we aim to implement, test and validate the following \n",
    "trading strategies to see which gives the best profit factor, sharpe ratio and competition score:\n",
    "\n",
    "- Donchian Breakout\n",
    "- EMA Crossovers\n",
    "\n",
    "Each strategy will also have an optimised, grid-searched lookback(s)."
   ],
   "id": "3c77385860d95266"
  },
  {
   "metadata": {
    "ExecuteTime": {
     "end_time": "2025-06-23T07:08:07.728646Z",
     "start_time": "2025-06-23T07:08:07.721932Z"
    }
   },
   "cell_type": "code",
   "source": [
    "import pandas as pd\n",
    "import numpy as np\n",
    "import copy\n",
    "\n",
    "from pandas import DataFrame, Series\n",
    "from typing import List, Dict\n",
    "from numpy import ndarray\n",
    "\n",
    "position_limits: int = 10000\n",
    "allocated_instruments: List[int] = []\n",
    "for i in range(0,50): allocated_instruments.append(i)\n",
    "commission_fee: float = 0.0005"
   ],
   "id": "991ca63a15f3b213",
   "outputs": [],
   "execution_count": 31
  },
  {
   "metadata": {},
   "cell_type": "markdown",
   "source": "We first load in the price_history",
   "id": "8df5ec314f8554de"
  },
  {
   "cell_type": "code",
   "id": "initial_id",
   "metadata": {
    "collapsed": true,
    "ExecuteTime": {
     "end_time": "2025-06-23T07:08:07.743907Z",
     "start_time": "2025-06-23T07:08:07.740099Z"
    }
   },
   "source": [
    "def get_price_history() -> Dict[int, DataFrame]:\n",
    "\t# Get Price Data\n",
    "\traw_prices: DataFrame = pd.read_csv(\"../../prices.txt\", sep=r\"\\s+\", index_col=None,\n",
    "\t\theader=None)\n",
    "\tprice_data: ndarray = raw_prices.values[:500,:].T\n",
    "\n",
    "\t# Initialise Price History\n",
    "\tprice_history: Dict[int, DataFrame] = {}\n",
    "\n",
    "\t# Assign price data to insturments\n",
    "\tfor instrument_no in allocated_instruments:\n",
    "\t\tinstrument_price_history: Dict[str, ndarray] = {}\n",
    "\t\tinstrument_price_history[\"price\"] = price_data[instrument_no]\n",
    "\t\tprice_history[instrument_no] = pd.DataFrame(instrument_price_history)\n",
    "\n",
    "\n",
    "\treturn price_history"
   ],
   "outputs": [],
   "execution_count": 32
  },
  {
   "metadata": {},
   "cell_type": "markdown",
   "source": [
    "### Strategies\n",
    "\n",
    "**Donchian Breakout**"
   ],
   "id": "e4613510ce704a27"
  },
  {
   "metadata": {
    "ExecuteTime": {
     "end_time": "2025-06-23T07:08:07.770602Z",
     "start_time": "2025-06-23T07:08:07.767509Z"
    }
   },
   "cell_type": "code",
   "source": [
    "def donchian_breakout(price_history: Dict[int, DataFrame], lookbacks: Dict[int, int]) -> Dict[int,\n",
    "\tDataFrame]:\n",
    "\tfor instrument_no in allocated_instruments:\n",
    "\t\t# Assign upper and lower band\n",
    "\t\tprice_history[instrument_no][\"upper\"] = price_history[instrument_no][\"price\"].rolling(\n",
    "\t\t\t\tlookbacks[instrument_no] - 1).max().shift(1)\n",
    "\t\tprice_history[instrument_no][\"lower\"] = price_history[instrument_no][\"price\"].rolling(\n",
    "\t\t\t\tlookbacks[instrument_no] - 1).min().shift(1)\n",
    "\n",
    "\t\t# Assign signals\n",
    "\t\tprice_history[instrument_no][\"signal\"] = np.nan\n",
    "\t\tprice_history[instrument_no].loc[price_history[instrument_no][\"price\"] > price_history[\n",
    "\t\t\tinstrument_no][\"upper\"], 'signal']\t= 1\n",
    "\t\tprice_history[instrument_no].loc[price_history[instrument_no][\"price\"] < price_history[\n",
    "\t\t\tinstrument_no][\"lower\"], 'signal']\t= -1\n",
    "\n",
    "\t\tprice_history[instrument_no][\"signal\"] = price_history[instrument_no][\"signal\"].ffill()\n",
    "\n",
    "\treturn price_history"
   ],
   "id": "9e814ba1baad8432",
   "outputs": [],
   "execution_count": 33
  },
  {
   "metadata": {},
   "cell_type": "markdown",
   "source": "**MA Crossover**",
   "id": "7be127dd2625a11d"
  },
  {
   "metadata": {
    "ExecuteTime": {
     "end_time": "2025-06-23T07:08:07.788595Z",
     "start_time": "2025-06-23T07:08:07.786043Z"
    }
   },
   "cell_type": "code",
   "source": [
    "def ma_crossover(price_history: Dict[int, DataFrame], lookbacks: Dict[int, List[int]]) -> (\n",
    "\tDict)[int, DataFrame]:\n",
    "\tfor instrument_no in allocated_instruments:\n",
    "\t\t# Get fast and slow MA\n",
    "\t\tfast_ma: ndarray = price_history[instrument_no][\"price\"].ewm(\n",
    "\t\t\tspan=lookbacks[instrument_no][0], adjust=False).mean()\n",
    "\t\tslow_ma: ndarray = price_history[instrument_no][\"price\"].ewm(\n",
    "\t\t\tspan=lookbacks[instrument_no][1], adjust=False).mean()\n",
    "\t\t\n",
    "\t\tprice_history[instrument_no][\"signal\"] = np.nan\n",
    "\t\tprice_history[instrument_no].loc[fast_ma > slow_ma, 'signal'] = 1\n",
    "\t\tprice_history[instrument_no].loc[fast_ma < slow_ma, 'signal'] = -1\n",
    "\t\tprice_history[instrument_no][\"signal\"] = price_history[instrument_no][\"signal\"].ffill()\n",
    "\t\n",
    "\treturn price_history"
   ],
   "id": "d305f7e7952d371",
   "outputs": [],
   "execution_count": 34
  },
  {
   "metadata": {},
   "cell_type": "markdown",
   "source": "### Backtesting",
   "id": "e728f9206be2e4a0"
  },
  {
   "metadata": {
    "ExecuteTime": {
     "end_time": "2025-06-23T07:08:07.807166Z",
     "start_time": "2025-06-23T07:08:07.803404Z"
    }
   },
   "cell_type": "code",
   "source": [
    "def get_strategy_results(price_history: Dict[int, DataFrame]) -> Dict[int, DataFrame]:\n",
    "\tfor instrument_no in allocated_instruments:\n",
    "\t\t# Get Log Returns\n",
    "\t\tprice_history[instrument_no][\"log_return\"] = np.log(price_history[instrument_no]\n",
    "\t\t[\"price\"]).diff().shift(-1)\n",
    "\n",
    "\t\t# Get Strategy Return\n",
    "\t\tprice_history[instrument_no][\"strategy_return\"] = (price_history[instrument_no][\"signal\"]\n",
    "\t\t\t\t\t\t\t\t\t\t\t\t\t\t   * price_history[instrument_no][\"log_return\"])\n",
    "\n",
    "\t\t# Get Position changes\n",
    "\t\tposition_change: ndarray = price_history[instrument_no][\"signal\"].diff().abs()\n",
    "\n",
    "\t\t# Apply the commission fee\n",
    "\t\tprice_history[instrument_no][\"strategy_return\"] -= position_change * commission_fee\n",
    "\n",
    "\n",
    "\treturn price_history\n",
    "\n",
    "def show_performance_metrics(strategy_results: Dict[int, DataFrame]) -> None:\n",
    "\tperformance_metrics: Dict[str, List[int | float]] = {}\n",
    "\tperformance_metrics[\"Instrument No.\"] = allocated_instruments\n",
    "\tperformance_metrics[\"Profit Factor\"] = []\n",
    "\tperformance_metrics[\"Sharpe Ratio\"] = []\n",
    "\t\n",
    "\tfor instrument_no in allocated_instruments:\n",
    "\t\t# Get Returns\n",
    "\t\treturns: Series = strategy_results[instrument_no][\"strategy_return\"]\n",
    "\n",
    "\t\t# Compute performance metrics\n",
    "\t\tprofit_factor = returns[returns > 0].sum() / returns[returns < 0].abs().sum()\n",
    "\t\tsharpe = (returns.mean() / returns.std()) * (252 ** 0.5)\n",
    "\t\t\n",
    "\t\tperformance_metrics[\"Profit Factor\"].append(profit_factor)\n",
    "\t\tperformance_metrics[\"Sharpe Ratio\"].append(sharpe)\n",
    "\t\n",
    "\tperformance_metrics_df: DataFrame = pd.DataFrame(performance_metrics)\n",
    "\tprint(performance_metrics_df.to_string(index=False))\n",
    "\t\t\n"
   ],
   "id": "ccdee4826552a5a6",
   "outputs": [],
   "execution_count": 35
  },
  {
   "metadata": {},
   "cell_type": "markdown",
   "source": "### Grid Searching (Optimise for sharpe ratio)",
   "id": "3ce1eaa92373a0a8"
  },
  {
   "metadata": {
    "ExecuteTime": {
     "end_time": "2025-06-23T07:08:07.826737Z",
     "start_time": "2025-06-23T07:08:07.821875Z"
    }
   },
   "cell_type": "code",
   "source": [
    "def get_donchian_breakout_lookbacks() -> Dict[int, int]:\n",
    "\tlookbacks: Dict[int, int] = {}\n",
    "\tbest_sharpes: Dict[int, float] = {\n",
    "\t\tinstrument_no: -100000000.0 for instrument_no in allocated_instruments\n",
    "\t}\n",
    "\t\n",
    "\tprice_history: Dict[int, DataFrame] = get_price_history()\n",
    "\t\n",
    "\tfor lookback in range(30, 201):\n",
    "\t\tcurrent_lookback: Dict[int, int] = {instrument_no: lookback for instrument_no in \n",
    "\t\t\tallocated_instruments}\n",
    "\t\tstrategy_output: Dict[int, DataFrame] = donchian_breakout(copy.deepcopy(price_history), \n",
    "\t\t\tcurrent_lookback)\n",
    "\t\tstrategy_results: Dict[int, DataFrame] = get_strategy_results(strategy_output)\n",
    "\t\t\n",
    "\t\tfor instrument_no in allocated_instruments:\n",
    "\t\t\t# Get Returns\n",
    "\t\t\treturns: Series = strategy_results[instrument_no][\"strategy_return\"]\n",
    "\t\t\t\n",
    "\t\t\t# Compute Sharpe\n",
    "\t\t\tsharpe = (returns.mean() / returns.std()) * (252 ** 0.5)\n",
    "\t\t\t\n",
    "\t\t\t# If sharpe is better than current sharpe, replace lookback\n",
    "\t\t\tif sharpe > best_sharpes[instrument_no]:\n",
    "\t\t\t\tbest_sharpes[instrument_no] = sharpe\n",
    "\t\t\t\tlookbacks[instrument_no] = lookback\n",
    "\t\n",
    "\treturn lookbacks\n",
    "\n",
    "def get_ma_crossover_lookbacks() -> Dict[int, List[int]]:\n",
    "\tlookbacks: Dict[int, List[int]] = {instrument_no: [] for instrument_no in allocated_instruments}\n",
    "\tbest_sharpes: Dict[int, float] = {\n",
    "\t\tinstrument_no: -10000000.0 for instrument_no in allocated_instruments\n",
    "\t}\n",
    "\t\n",
    "\tprice_history: Dict[int, DataFrame] = get_price_history()\n",
    "\t\n",
    "\tfor slow_lookback in range(50, 201):\n",
    "\t\tfor fast_lookback in range(5, 11):\n",
    "\t\t\tcurrent_lookback: Dict[int, List[int]] = {\n",
    "\t\t\t\tinstrument_no: [fast_lookback, slow_lookback] for instrument_no in allocated_instruments\n",
    "\t\t\t}\n",
    "\t\t\tstrategy_output: Dict[int, DataFrame] = ma_crossover(copy.deepcopy(price_history),\n",
    "\t\t\t\tcurrent_lookback)\n",
    "\t\t\tstrategy_results: Dict[int, DataFrame] = get_strategy_results(strategy_output)\n",
    "\t\t\t\n",
    "\t\t\tfor instrument_no in allocated_instruments:\n",
    "\t\t\t\treturns: Series = strategy_results[instrument_no][\"strategy_return\"]\n",
    "\t\t\t\t\n",
    "\t\t\t\tsharpe = (returns.mean() / returns.std()) * (252 ** 0.5)\n",
    "\t\t\t\t\n",
    "\t\t\t\tif sharpe > best_sharpes[instrument_no]:\n",
    "\t\t\t\t\tbest_sharpes[instrument_no] = sharpe\n",
    "\t\t\t\t\tlookbacks[instrument_no] = [fast_lookback, slow_lookback]\n",
    "\t\n",
    "\treturn lookbacks"
   ],
   "id": "f3192eb639724fba",
   "outputs": [],
   "execution_count": 36
  },
  {
   "metadata": {},
   "cell_type": "markdown",
   "source": "### Performance Metrics\n",
   "id": "b21d67e2aeffb0da"
  },
  {
   "metadata": {
    "ExecuteTime": {
     "end_time": "2025-06-23T07:08:47.590448Z",
     "start_time": "2025-06-23T07:08:07.842611Z"
    }
   },
   "cell_type": "code",
   "source": [
    "# Get optimised lookbacks\n",
    "donchian_breakout_lookbacks: Dict[int, int] = get_donchian_breakout_lookbacks()\n",
    "ma_crossover_lookbacks: Dict[int, List[int]] = get_ma_crossover_lookbacks()\n",
    "\n",
    "price_history: Dict[int, DataFrame] = get_price_history()\n",
    "db_output: Dict[int, DataFrame] = donchian_breakout(copy.deepcopy(price_history), \n",
    "\tdonchian_breakout_lookbacks)\n",
    "ma_cross_output: Dict[int, DataFrame] = ma_crossover(copy.deepcopy(price_history), \n",
    "\tma_crossover_lookbacks)\n",
    "\n",
    "db_results: Dict[int, DataFrame] = get_strategy_results(db_output)\n",
    "ma_cross_results: Dict[int, DataFrame] = get_strategy_results(ma_cross_output)\n",
    "show_performance_metrics(db_results)\n",
    "print(donchian_breakout_lookbacks)\n",
    "\n",
    "show_performance_metrics(ma_cross_results)\n",
    "print(ma_crossover_lookbacks)"
   ],
   "id": "403ae7fd6228a491",
   "outputs": [
    {
     "name": "stdout",
     "output_type": "stream",
     "text": [
      " Instrument No.  Profit Factor  Sharpe Ratio\n",
      "              0       1.156975      0.929310\n",
      "              1       1.208946      1.218807\n",
      "              2       1.228547      1.322497\n",
      "              3       1.082080      0.491369\n",
      "              4       1.261922      1.453206\n",
      "              5       1.344871      1.904097\n",
      "              6       1.164285      0.957696\n",
      "              7       1.069305      0.420549\n",
      "              8       0.988750     -0.072708\n",
      "              9       1.145569      0.839035\n",
      "             10       1.152185      0.881011\n",
      "             11       1.103274      0.620036\n",
      "             12       1.162521      0.939399\n",
      "             13       1.139048      0.835589\n",
      "             14       1.175865      0.995621\n",
      "             15       1.065247      0.387051\n",
      "             16       1.103871      0.623333\n",
      "             17       1.109285      0.666689\n",
      "             18       0.940731     -0.386133\n",
      "             19       1.132940      0.784243\n",
      "             20       1.317690      1.726149\n",
      "             21       1.196184      1.145189\n",
      "             22       1.041031      0.252678\n",
      "             23       1.290834      1.620401\n",
      "             24       1.001762      0.010908\n",
      "             25       1.350908      1.926958\n",
      "             26       0.921265     -0.525407\n",
      "             27       1.228924      1.313179\n",
      "             28       1.163206      0.986989\n",
      "             29       1.062085      0.376347\n",
      "             30       1.454376      2.317478\n",
      "             31       1.088675      0.533065\n",
      "             32       1.085719      0.522290\n",
      "             33       1.233909      1.329007\n",
      "             34       1.136038      0.814169\n",
      "             35       1.165614      0.965643\n",
      "             36       1.008884      0.054706\n",
      "             37       1.163821      0.969773\n",
      "             38       1.096184      0.580158\n",
      "             39       1.157872      0.937869\n",
      "             40       1.143834      0.861875\n",
      "             41       1.094359      0.569703\n",
      "             42       1.004534      0.029288\n",
      "             43       1.130997      0.784782\n",
      "             44       1.151071      0.883267\n",
      "             45       0.974683     -0.163404\n",
      "             46       1.084819      0.504397\n",
      "             47       1.301682      1.669166\n",
      "             48       1.010023      0.063766\n",
      "             49       1.134896      0.797194\n",
      "{0: 30, 1: 42, 2: 189, 3: 163, 4: 51, 5: 50, 6: 99, 7: 179, 8: 81, 9: 95, 10: 45, 11: 116, 12: 111, 13: 146, 14: 174, 15: 96, 16: 99, 17: 42, 18: 59, 19: 177, 20: 157, 21: 59, 22: 30, 23: 85, 24: 192, 25: 30, 26: 196, 27: 36, 28: 44, 29: 186, 30: 120, 31: 108, 32: 62, 33: 30, 34: 70, 35: 200, 36: 30, 37: 55, 38: 37, 39: 163, 40: 63, 41: 115, 42: 52, 43: 31, 44: 32, 45: 101, 46: 77, 47: 147, 48: 82, 49: 72}\n",
      " Instrument No.  Profit Factor  Sharpe Ratio\n",
      "              0       1.180005      1.050626\n",
      "              1       1.090792      0.556076\n",
      "              2       1.023774      0.150187\n",
      "              3       1.003728      0.023426\n",
      "              4       1.207838      1.178848\n",
      "              5       1.154314      0.919269\n",
      "              6       1.176871      1.023824\n",
      "              7       1.018384      0.114748\n",
      "              8       0.971618     -0.185164\n",
      "              9       1.118610      0.695644\n",
      "             10       1.101068      0.599227\n",
      "             11       0.971110     -0.184230\n",
      "             12       1.062894      0.385806\n",
      "             13       1.032911      0.205918\n",
      "             14       1.186568      1.091379\n",
      "             15       1.066808      0.401522\n",
      "             16       1.033194      0.206913\n",
      "             17       1.087501      0.541881\n",
      "             18       0.933152     -0.438252\n",
      "             19       0.949711     -0.325660\n",
      "             20       1.227017      1.311725\n",
      "             21       1.161467      0.958603\n",
      "             22       0.996263     -0.023597\n",
      "             23       1.183119      1.072384\n",
      "             24       0.973539     -0.167584\n",
      "             25       1.310117      1.734867\n",
      "             26       0.946337     -0.349864\n",
      "             27       1.182998      1.075667\n",
      "             28       1.035517      0.227439\n",
      "             29       0.870710     -0.872639\n",
      "             30       1.257602      1.402758\n",
      "             31       1.140643      0.825127\n",
      "             32       1.138828      0.831758\n",
      "             33       1.317655      1.743012\n",
      "             34       1.065865      0.406960\n",
      "             35       0.939248     -0.399499\n",
      "             36       1.069977      0.416637\n",
      "             37       1.198952      1.154309\n",
      "             38       1.018159      0.113760\n",
      "             39       1.128645      0.773938\n",
      "             40       1.182135      1.067901\n",
      "             41       0.961051     -0.250140\n",
      "             42       1.038446      0.243386\n",
      "             43       1.057180      0.355529\n",
      "             44       1.077286      0.464990\n",
      "             45       0.993135     -0.043658\n",
      "             46       1.052883      0.323824\n",
      "             47       1.117874      0.709133\n",
      "             48       0.891809     -0.731872\n",
      "             49       1.049974      0.306915\n",
      "{0: [5, 50], 1: [9, 76], 2: [9, 200], 3: [9, 51], 4: [10, 96], 5: [6, 104], 6: [9, 193], 7: [8, 200], 8: [9, 126], 9: [5, 66], 10: [10, 97], 11: [9, 200], 12: [7, 179], 13: [10, 73], 14: [6, 148], 15: [6, 175], 16: [9, 144], 17: [6, 85], 18: [6, 200], 19: [8, 189], 20: [10, 79], 21: [5, 96], 22: [6, 102], 23: [10, 114], 24: [6, 62], 25: [6, 122], 26: [5, 50], 27: [10, 54], 28: [10, 50], 29: [8, 137], 30: [8, 176], 31: [9, 178], 32: [9, 140], 33: [7, 50], 34: [8, 50], 35: [6, 166], 36: [5, 69], 37: [10, 55], 38: [5, 146], 39: [5, 90], 40: [9, 116], 41: [10, 199], 42: [10, 67], 43: [7, 166], 44: [10, 50], 45: [9, 79], 46: [5, 82], 47: [5, 53], 48: [5, 82], 49: [8, 55]}\n"
     ]
    }
   ],
   "execution_count": 37
  },
  {
   "metadata": {},
   "cell_type": "markdown",
   "source": [
    "We can conclude that we can use Donchian Breakouts for assets 1, 2, 4, 5, 23 and 27 and EMA \n",
    "Crossovers on asset 0"
   ],
   "id": "38c15e0410ed8e53"
  }
 ],
 "metadata": {
  "kernelspec": {
   "display_name": "Python 3",
   "language": "python",
   "name": "python3"
  },
  "language_info": {
   "codemirror_mode": {
    "name": "ipython",
    "version": 2
   },
   "file_extension": ".py",
   "mimetype": "text/x-python",
   "name": "python",
   "nbconvert_exporter": "python",
   "pygments_lexer": "ipython2",
   "version": "2.7.6"
  }
 },
 "nbformat": 4,
 "nbformat_minor": 5
}
