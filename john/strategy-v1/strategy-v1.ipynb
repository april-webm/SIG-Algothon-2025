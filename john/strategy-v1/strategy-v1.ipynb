{
 "cells": [
  {
   "metadata": {},
   "cell_type": "markdown",
   "source": [
    "# Strategy-V1\n",
    "\n",
    "We aim to build a strategy around the following instruments: 0, 1, 2, 3, 4, 5, 6, 7, 22, 23, 24, \n",
    "26, 27\n",
    "\n",
    "From our analysis, we gathered that the set of instruments followed trending/momentum behaviour. \n",
    "Therefore, we outline the key characteristics of our strategy below:\n",
    "\n",
    "- **Features to Develop**\n",
    "    - EMA Crossovers with a short EMA (5-10 day lookback) and long EMA (50-200 day lookback) OR \n",
    "        Moving Average Convergence Divergence (MACD) - lookbacks to be grid searched\n",
    "    - Rolling Auto-Correlation\n",
    "    - Relative Strength Index (lookback of 14 days)\n",
    "    - Rolling Volatility (lookback to be grid searched)\n",
    "    - Bollinger Bands - middle band lookback to be grid-searched, upper-band and lower band \n",
    "        volatility multiplier to be grid-searched\n",
    "- **Strategies to Explore**:\n",
    "    - Time-Series Momentum: does this asset perform well relative to its own past?\n",
    "    - Moving Average Crossover System: for e.g. when the short EMA goes above the long EMA, its a\n",
    "         bullish signal\n",
    "    - Mean Reversion (Sparingly): only in periods where auto-correlation is negative\n",
    "\n",
    "We do an initial setup below"
   ],
   "id": "69883a2fa57b7957"
  },
  {
   "metadata": {},
   "cell_type": "code",
   "outputs": [],
   "execution_count": null,
   "source": [
    "import numpy as np\n",
    "import matplotlib.pyplot as plt\n",
    "import pandas as pd\n",
    "\n",
    "from typing import List, Tuple\n",
    "\n",
    "from numpy import ndarray\n",
    "from pandas import Series, DataFrame\n",
    "\n",
    "instrument_nos: List[int] = [0, 1, 2, 3, 4, 5, 6, 7, 22, 23 ,24, 26, 27]\n",
    "prices_filepath: str = \"../prices.txt\""
   ],
   "id": "856a0b9a6b19a859"
  },
  {
   "metadata": {},
   "cell_type": "markdown",
   "source": [
    "## Feature Engineering\n",
    "\n",
    "### 1. Exponential Moving Average"
   ],
   "id": "b44af5c3473ceb7c"
  },
  {
   "metadata": {},
   "cell_type": "code",
   "outputs": [],
   "execution_count": null,
   "source": [
    "def get_ema(instrument_price_history: Series, lookback: int) -> float:\n",
    "    if len(instrument_price_history) < lookback: return 0\n",
    "    \n",
    "    return instrument_price_history.ewm(span=lookback, adjust=False).mean()"
   ],
   "id": "bdd663581d839ee7"
  },
  {
   "metadata": {},
   "cell_type": "markdown",
   "source": "### 2. Rolling Auto-Correlation",
   "id": "c4f3710436bc08f4"
  },
  {
   "metadata": {},
   "cell_type": "code",
   "outputs": [],
   "execution_count": null,
   "source": [
    "def get_rolling_autocorrelation(instrument_price_history: Series, lag_limit: int, lookback: int) \\\n",
    "        -> ndarray:\n",
    "     if len(instrument_price_history) < lookback: return np.zeros(lag_limit)\n",
    "     \n",
    "     prices_window: ndarray = instrument_price_history.to_numpy()[-lookback:]\n",
    "     \n",
    "     mean: float = prices_window.mean()\n",
    "     demeaned = prices_window - mean\n",
    "     denominator: float = np.dot(demeaned, demeaned)\n",
    "     autocorrelations: ndarray = np.array([np.dot(demeaned[k:], demeaned[:-k]) / denominator\n",
    "           for k in range(1, lag_limit + 1)])\n",
    "     \n",
    "     return autocorrelations"
   ],
   "id": "2e8c99fbdbe2eb96"
  },
  {
   "metadata": {},
   "cell_type": "markdown",
   "source": "### 3. Relative Strength Index",
   "id": "3f3d9207a0744b4c"
  },
  {
   "metadata": {},
   "cell_type": "code",
   "outputs": [],
   "execution_count": null,
   "source": [
    "def get_rsi(instrument_price_history: Series, lookback: int = 14) -> float:\n",
    "    prices_window: ndarray = instrument_price_history.to_numpy()[-lookback:]\n",
    "    delta_prices: ndarray = np.diff(prices_window)\n",
    "    \n",
    "    gains: ndarray = np.where(delta_prices > 0, delta_prices, 0)\n",
    "    losses: ndarray = np.where(delta_prices < 0, -delta_prices, 0)\n",
    "    \n",
    "    average_gain: float = gains.mean()\n",
    "    average_loss: float = losses.mean()\n",
    "    \n",
    "    if average_loss == 0: return 100.0\n",
    "    \n",
    "    relative_strength: float = average_gain / average_loss\n",
    "    relative_strength_index: float = 100 - (100 / (1 + relative_strength))\n",
    "    return relative_strength_index"
   ],
   "id": "a10cbebbbf5f042b"
  },
  {
   "metadata": {},
   "cell_type": "markdown",
   "source": "### 4. Annualised Rolling Volatility",
   "id": "cf0ed617811f064d"
  },
  {
   "metadata": {},
   "cell_type": "code",
   "outputs": [],
   "execution_count": null,
   "source": [
    "def get_annualised_volatility(instrument_price_history: Series, lookback: int) -> float:\n",
    "    if len(instrument_price_history) < lookback: return 0.0\n",
    "    \n",
    "    prices_window: Series= instrument_price_history[-lookback:]\n",
    "    returns: Series = prices_window.pct_change().fillna(0)\n",
    "    standard_deviation: float = returns.rolling(window=lookback).std()\n",
    "    return standard_deviation * (252 ** 0.5)"
   ],
   "id": "f1a9ebcb16ed3418"
  },
  {
   "metadata": {},
   "cell_type": "markdown",
   "source": "### 5. Bollinger Bands",
   "id": "d7f4e639d1d0f559"
  },
  {
   "metadata": {},
   "cell_type": "code",
   "outputs": [],
   "execution_count": null,
   "source": [
    "def get_bollinger_bands(instrument_price_history: Series, lookback: int, width_multiplier: float) \\\n",
    "        -> ndarray:\n",
    "    if len(instrument_price_history) < lookback: return np.zeros(3)\n",
    "    \n",
    "    prices_window: Series = instrument_price_history[-lookback:]\n",
    "    \n",
    "    middle_band: float = prices_window.mean()\n",
    "    \n",
    "    standard_deviation: float = get_annualised_volatility(instrument_price_history, lookback) /(252 \n",
    "        ** 0.5)\n",
    "    \n",
    "    lower_band: float = middle_band - width_multiplier * standard_deviation\n",
    "    upper_band: float = middle_band + width_multiplier * standard_deviation\n",
    "    \n",
    "    bollinger_bands: ndarray = np.array([lower_band, middle_band, upper_band], dtype=float)\n",
    "    return bollinger_bands\n",
    "    "
   ],
   "id": "f2429cba9aa26004"
  },
  {
   "metadata": {},
   "cell_type": "markdown",
   "source": "### 6. Moving Average Convergence Divergence",
   "id": "1ed9ea1907ab0c12"
  },
  {
   "metadata": {},
   "cell_type": "code",
   "outputs": [],
   "execution_count": null,
   "source": [
    "def get_macd(instrument_price_history: Series, fast_lookback: int, slow_lookback: int,\n",
    "    signal_period: int) -> Tuple[\n",
    "    float, float]:\n",
    "    if len(instrument_price_history) < fast_lookback: return 0,0\n",
    "    \n",
    "    ema_fast: Series = instrument_price_history.ewm(span=fast_lookback, adjust=False).mean()\n",
    "    ema_slow: Series = instrument_price_history.ewm(span=slow_lookback, adjust=False).mean()\n",
    "    \n",
    "    macd_line = ema_fast - ema_slow\n",
    "    \n",
    "    signal_line = macd_line.ewm(span=signal_period, adjust=False).mean()\n",
    "    \n",
    "    macd_today: float = float(macd_line.iloc[-1])\n",
    "    signal_today: float = float(signal_line.iloc[-1])\n",
    "    \n",
    "    return macd_today, signal_today"
   ],
   "id": "e66cee868eb37de7"
  },
  {
   "metadata": {},
   "cell_type": "markdown",
   "source": [
    "## Strategy Implementation\n",
    "\n",
    "### Version 1\n",
    "\n",
    "- Simple EMA crossover\n",
    "    - If short EMA is above long EMA, buy\n",
    "    - If short EMA is below long EMA, sell"
   ],
   "id": "30d945ba703ed1c3"
  },
  {
   "metadata": {},
   "cell_type": "code",
   "outputs": [],
   "execution_count": null,
   "source": [
    "from backtester import Backtester, BacktesterResults, Params\n",
    "\n",
    "positions_limit: int = 10000\n",
    "def getMyPosition(prices_so_far: ndarray, allocated_instruments: List[int]) -> ndarray:\n",
    "    positions: ndarray = np.zeros(50)\n",
    "    \n",
    "    short_ema_lookback: int = 5\n",
    "    long_ema_lookback: int = 50\n",
    "    \n",
    "    if len(prices_so_far.iloc[0]) < long_ema_lookback:\n",
    "        return positions\n",
    "    \n",
    "    for instrument_no in allocated_instruments:\n",
    "        instrument_price_data: Series = prices_so_far.iloc[instrument_no]\n",
    "        \n",
    "        short_ema: float = get_ema(instrument_price_data, short_ema_lookback)\n",
    "        long_ema: float = get_ema(instrument_price_data, long_ema_lookback)\n",
    "        \n",
    "        if short_ema > long_ema:\n",
    "            positions[instrument_no] = positions_limit / instrument_price_data[-1]\n",
    "        elif short_ema < long_ema:\n",
    "            positions[instrument_no] = -(positions_limit / instrument_price_data[-1])\n",
    "        \n",
    "    return positions\n"
   ],
   "id": "1c2d4b9b0424999f"
  }
 ],
 "metadata": {
  "kernelspec": {
   "display_name": "Python 3",
   "language": "python",
   "name": "python3"
  },
  "language_info": {
   "codemirror_mode": {
    "name": "ipython",
    "version": 2
   },
   "file_extension": ".py",
   "mimetype": "text/x-python",
   "name": "python",
   "nbconvert_exporter": "python",
   "pygments_lexer": "ipython2",
   "version": "2.7.6"
  }
 },
 "nbformat": 4,
 "nbformat_minor": 5
}
